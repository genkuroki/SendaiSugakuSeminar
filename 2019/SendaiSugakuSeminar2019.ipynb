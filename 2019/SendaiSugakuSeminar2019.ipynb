{
 "cells": [
  {
   "cell_type": "markdown",
   "metadata": {},
   "source": [
    "# 仙台数学セミナー2019演習\n",
    "\n",
    "* 黒木 玄\n",
    "* 2019年8月8日(木)19:30～21:30\n",
    "* 仙台市太白区長町五丁目3-23 ホテルふじや\n",
    "\n",
    "**目標:** 3次方程式や4次方程式の解の公式を得て, Galois(ガロア)群の作用の様子を観察すること.\n",
    "\n",
    "$\n",
    "\\newcommand\\QED{\\text{□}}\n",
    "\\newcommand\\Q{\\mathbb{Q}}\n",
    "\\newcommand\\R{\\mathbb{R}}\n",
    "$\n",
    "\n",
    "以下の文書も参考になると思われる:\n",
    "\n",
    "* 黒木玄, [高校数学の話題](https://genkuroki.github.io/documents/HighSchoolMath/HighSchoolMath.pdf) の第2節\n",
    "\n",
    "[Julia言語](https://julialang.org/)の使い方については, \n",
    "\n",
    "* 黒木玄, [Julia v1.1.0 の Windows 8.1 へのインストール](https://nbviewer.jupyter.org/github/genkuroki/msfd28/blob/master/install.ipynb)\n",
    "\n",
    "を参照せよ.\n",
    "\n",
    "以下では $2,3,4$ で割れることを仮定する."
   ]
  },
  {
   "cell_type": "markdown",
   "metadata": {
    "toc": true
   },
   "source": [
    "<h1>目次<span class=\"tocSkip\"></span></h1>\n",
    "<div class=\"toc\"><ul class=\"toc-item\"><li><span><a href=\"#2次方程式\" data-toc-modified-id=\"2次方程式-1\"><span class=\"toc-item-num\">1&nbsp;&nbsp;</span>2次方程式</a></span><ul class=\"toc-item\"><li><span><a href=\"#$n$-次方程式の-$n-1$-次の項の消去\" data-toc-modified-id=\"$n$-次方程式の-$n-1$-次の項の消去-1.1\"><span class=\"toc-item-num\">1.1&nbsp;&nbsp;</span>$n$ 次方程式の $n-1$ 次の項の消去</a></span></li><li><span><a href=\"#ガロア群の作用\" data-toc-modified-id=\"ガロア群の作用-1.2\"><span class=\"toc-item-num\">1.2&nbsp;&nbsp;</span>ガロア群の作用</a></span></li></ul></li><li><span><a href=\"#3次方程式\" data-toc-modified-id=\"3次方程式-2\"><span class=\"toc-item-num\">2&nbsp;&nbsp;</span>3次方程式</a></span><ul class=\"toc-item\"><li><span><a href=\"#3変数3次対称式の因数分解の公式\" data-toc-modified-id=\"3変数3次対称式の因数分解の公式-2.1\"><span class=\"toc-item-num\">2.1&nbsp;&nbsp;</span>3変数3次対称式の因数分解の公式</a></span></li><li><span><a href=\"#3次方程式の解の公式\" data-toc-modified-id=\"3次方程式の解の公式-2.2\"><span class=\"toc-item-num\">2.2&nbsp;&nbsp;</span>3次方程式の解の公式</a></span></li><li><span><a href=\"#一般の3次方程式の解集合へのガロア群の作用\" data-toc-modified-id=\"一般の3次方程式の解集合へのガロア群の作用-2.3\"><span class=\"toc-item-num\">2.3&nbsp;&nbsp;</span>一般の3次方程式の解集合へのガロア群の作用</a></span></li></ul></li><li><span><a href=\"#4次方程式\" data-toc-modified-id=\"4次方程式-3\"><span class=\"toc-item-num\">3&nbsp;&nbsp;</span>4次方程式</a></span><ul class=\"toc-item\"><li><span><a href=\"#4次方程式を解くために役に立つ因数分解の公式\" data-toc-modified-id=\"4次方程式を解くために役に立つ因数分解の公式-3.1\"><span class=\"toc-item-num\">3.1&nbsp;&nbsp;</span>4次方程式を解くために役に立つ因数分解の公式</a></span></li><li><span><a href=\"#4次方程式の解法\" data-toc-modified-id=\"4次方程式の解法-3.2\"><span class=\"toc-item-num\">3.2&nbsp;&nbsp;</span>4次方程式の解法</a></span></li><li><span><a href=\"#一般の4次方程式の解集合へのガロア群の作用\" data-toc-modified-id=\"一般の4次方程式の解集合へのガロア群の作用-3.3\"><span class=\"toc-item-num\">3.3&nbsp;&nbsp;</span>一般の4次方程式の解集合へのガロア群の作用</a></span></li><li><span><a href=\"#立方体の回転対称性\" data-toc-modified-id=\"立方体の回転対称性-3.4\"><span class=\"toc-item-num\">3.4&nbsp;&nbsp;</span>立方体の回転対称性</a></span></li></ul></li></ul></div>"
   ]
  },
  {
   "cell_type": "code",
   "execution_count": 2,
   "metadata": {},
   "outputs": [],
   "source": [
    "using SymPy"
   ]
  },
  {
   "cell_type": "markdown",
   "metadata": {},
   "source": [
    "## 2次方程式\n",
    "\n",
    "**例題:** 次の2次方程式の解の公式を求めよ:\n",
    "\n",
    "$$\n",
    "x^2 + bx + c = 0.\n",
    "$$\n",
    "\n",
    "**解答例:** $x = X-b/2$ とおくと, この2次方程式は\n",
    "\n",
    "$$\n",
    "\\begin{aligned}\n",
    "&\n",
    "X^2 -bX + \\frac{b^2}{4} + bx - \\frac{b^2}{2} + c = 0,\n",
    "\\\\ &\n",
    "X^2 - \\frac{b^2 - 4c}{4} = 0\n",
    "\\end{aligned}\n",
    "$$\n",
    "\n",
    "と書き直される. これを $X$ について解くと, \n",
    "\n",
    "$$\n",
    "X = \\pm\\frac{\\sqrt{b^2 - 4c}}{2}.\n",
    "$$\n",
    "\n",
    "これを $x=X-b/2$ に代入すると,\n",
    "\n",
    "$$\n",
    "x = \\frac{-b\\pm\\sqrt{b^2-4c}}{2}.\n",
    "\\qquad \\QED\n",
    "$$"
   ]
  },
  {
   "cell_type": "markdown",
   "metadata": {},
   "source": [
    "### $n$ 次方程式の $n-1$ 次の項の消去"
   ]
  },
  {
   "cell_type": "markdown",
   "metadata": {},
   "source": [
    "**問題:** 3次方程式\n",
    "\n",
    "$$\n",
    "x^3 + bx^2 + cx + d = 0\n",
    "$$\n",
    "\n",
    "は $x$ を適当におくと\n",
    "\n",
    "$$\n",
    "X^3 + px + q = 0\n",
    "$$\n",
    "\n",
    "の形の同値な方程式に書き直されることを示せ. $\\QED$"
   ]
  },
  {
   "cell_type": "markdown",
   "metadata": {},
   "source": [
    "**問題:** 4次方程式\n",
    "\n",
    "$$\n",
    "x^4 + ax^3 + bx^2 + cx + d = 0\n",
    "$$\n",
    "\n",
    "は $x$ を適当におくと\n",
    "\n",
    "$$\n",
    "X^4 + px^2 + qx + r = 0\n",
    "$$\n",
    "\n",
    "の形の同値な方程式に書き直されることを示せ. $\\QED$"
   ]
  },
  {
   "cell_type": "markdown",
   "metadata": {},
   "source": [
    "**問題:** 正の整数 $n$ について以上と同様の問題を考えて解け. $\\QED$"
   ]
  },
  {
   "cell_type": "markdown",
   "metadata": {},
   "source": [
    "### ガロア群の作用\n",
    "\n",
    "**問題:** $p,q,r,s$ は文字 $b,c$ の有理式($b,c$ の多項式分の $b,c$ の多項式)であると仮定し, $D=b^2-4c$ とおく. このとき, 以下の公式を示せ:\n",
    "\n",
    "$$\n",
    "\\begin{aligned}\n",
    "&\n",
    "(p+q\\sqrt{D}) + (r+s\\sqrt{D}) = (p+r) + (q+d)\\sqrt{D},\n",
    "\\\\ &\n",
    "-(p+q\\sqrt{D}) = (-p) + (-q)\\sqrt{D},\n",
    "\\\\ &\n",
    "(p+q\\sqrt{D})(r+s\\sqrt{D}) = (pr+Dqs) + (ps+qr)\\sqrt{D},\n",
    "\\\\ &\n",
    "p+q\\sqrt{D}\\ne 0 \\implies\n",
    "\\frac{1}{p+q\\sqrt{D}} = \\frac{p-q\\sqrt{D}}{p^2-Dq^2} =\n",
    "\\frac{p}{p^2-Dq^2} + \\frac{-q}{p^2-Dq^2}\\sqrt{D}.\n",
    "\\end{aligned}\n",
    "$$\n",
    "\n",
    "以上の4つの公式のうち1つ目と2つ目は自明なので証明しなくてもよい. 3つ目と4つ目はちょっとした計算が必要になるが易しい. 4つ目は分子分母に $p-q\\sqrt{D}$ をかけるいつもの「分母の有理化」をやっているだけである. $\\QED$"
   ]
  },
  {
   "cell_type": "markdown",
   "metadata": {},
   "source": [
    "**上の問題の続き:** $p+q\\sqrt{D}$ を $p-q\\sqrt{D}$ に対応させる写像を $\\sigma$ と書くと以下の公式が成立することを示せ:\n",
    "\n",
    "$$\n",
    "\\begin{aligned}\n",
    "&\n",
    "\\sigma((p+q\\sqrt{D}) + (r+s\\sqrt{D})) = \\sigma(p+q\\sqrt{D}) + \\sigma(r+s\\sqrt{D})),\n",
    "\\\\ &\n",
    "\\sigma(-(p+q\\sqrt{D})) = -\\sigma(p+q\\sqrt{D}),\n",
    "\\\\ &\n",
    "\\sigma((p+q\\sqrt{D})(r+s\\sqrt{D})) = \\sigma(p+q\\sqrt{D})\\sigma(r+s\\sqrt{D}),\n",
    "\\\\ &\n",
    "p+q\\sqrt{D}\\ne 0 \\implies\n",
    "\\sigma\\left(\\frac{1}{p+q\\sqrt{D}}\\right) = \\frac{1}{\\sigma(p+q\\sqrt{D})}.\n",
    "\\end{aligned}\n",
    "$$\n",
    "\n",
    "この結果は $\\sqrt{D}$ を $-\\sqrt{D}$ で置き換える操作 $\\sigma$ は加減乗除を使った計算を保つことを意味している. $\\QED$"
   ]
  },
  {
   "cell_type": "markdown",
   "metadata": {},
   "source": [
    "以上の結果から, 2次方程式 $x^2+bx+c=0$ の2つの解\n",
    "\n",
    "$$\n",
    "\\frac{-b+\\sqrt{D}}{2}, \\frac{-b-\\sqrt{D}}{2}\n",
    "$$\n",
    "\n",
    "を交換する操作, すなわち, $\\sqrt{D}$ を $-\\sqrt{D}$ で置き換える操作は, 加減乗除で閉じている $p+q\\sqrt{D}$ 型の要素全体の集合からそれ自身への加減乗除を保つ写像 $\\sigma$ を定めることがわかる.\n",
    "\n",
    "加減乗除で閉じた集合は代数学における**体 (field)** の言葉で適切に定式化され, $\\sqrt{D}$ を $-\\sqrt{D}$ で置き換える操作は**Galois群の作用**に一般化される.\n",
    "\n",
    "中学生のときに平方根について習った後に $\\sqrt{2}$ を $-\\sqrt{2}$ に置き換える操作で加減乗除の計算が保たれることに気付いた人もいると思う. Galois理論はそのような素朴な発見を一般化することによって作られている."
   ]
  },
  {
   "cell_type": "markdown",
   "metadata": {},
   "source": [
    "## 3次方程式\n",
    "\n",
    "**目標:** 一般の3次方程式 $x^3 + px + q = 0$ の解の公式を作ること. $\\QED$\n",
    "\n",
    "**注意:** この形の3次方程式を解くことができれば, $x^3+bx^2+cx+d=0$ 型の3次方程式も解くこともできる. $\\QED$"
   ]
  },
  {
   "cell_type": "markdown",
   "metadata": {},
   "source": [
    "### 3変数3次対称式の因数分解の公式\n",
    "\n",
    "**問題:** $x^3+y^3+z^3-3xyz$ を因数分解せよ. $\\QED$"
   ]
  },
  {
   "cell_type": "code",
   "execution_count": null,
   "metadata": {},
   "outputs": [],
   "source": [
    "@vars x y z\n",
    "f = x^3 + y^3 + z^3 - 3x*y*z\n",
    "f.factor()"
   ]
  },
  {
   "cell_type": "markdown",
   "metadata": {},
   "source": [
    "**問題:** 複素数 $\\omega$ を\n",
    "\n",
    "$$\n",
    "\\omega = \\frac{-1+\\sqrt{3}\\,i}{2}\n",
    "$$\n",
    "\n",
    "とおくと,\n",
    "\n",
    "$$\n",
    "\\omega^2 + \\omega + 1 = 0, \\quad \\omega^3 =1\n",
    "$$\n",
    "\n",
    "となることを示せ. $\\QED$\n",
    "\n",
    "**ヒント:** $\\omega = e^{2\\pi/3}$ であることを使えれば容易になる. 複素平面上に $1,\\omega,\\omega^2$ を図示してみよ. $\\QED$"
   ]
  },
  {
   "cell_type": "code",
   "execution_count": null,
   "metadata": {},
   "outputs": [],
   "source": [
    "ω = (-1+sqrt(Sym(-3)))/2\n",
    "(ω^2 + ω + 1).simplify()"
   ]
  },
  {
   "cell_type": "markdown",
   "metadata": {},
   "source": [
    "**問題:** 以下の公式を示せ:\n",
    "\n",
    "$$\n",
    "x^3+y^3+z^3-3xyz = (x+y+z)(x+\\omega y+\\omega^2 z)(x+\\omega^2 y+\\omega z).\n",
    "$$"
   ]
  },
  {
   "cell_type": "markdown",
   "metadata": {},
   "source": [
    "### 3次方程式の解の公式\n",
    "\n",
    "**問題:** 一般の3次方程式\n",
    "\n",
    "$$\n",
    "x^3 + px + q = 0\n",
    "$$\n",
    "\n",
    "の解の公式を作れ. 3つの解 $\\alpha,\\beta,\\gamma$ を $p,q$ の式で表せ. $\\QED$\n",
    "\n",
    "**ヒント:** もしも $p,q$ から $-3yz = p$, $y^3+z^3 = q$ を満たす $y,z$ を作ることができたならば,\n",
    "\n",
    "$$\n",
    "x^3 + px + q = x^3+(-3yz)x+(y^3+z^3) = x^3+y^3+z^3-3xyz.\n",
    "$$\n",
    "\n",
    "これを使えば, $x$ を求める解の公式が得られる. $\\QED$\n",
    "\n",
    "**注意:** 次節以降の説明をできるだけ見ないように気を付けること！ ネタばれが書いてある! $\\QED$"
   ]
  },
  {
   "cell_type": "markdown",
   "metadata": {},
   "source": [
    "### 一般の3次方程式の解集合へのガロア群の作用\n",
    "\n",
    "前節の問題のヒントの方法によって, 一般の3次方程式 $x^3+px+q=0$ の3つの解が, \n",
    "\n",
    "(1) 2次方程式を解くことによって $y^3z^3 = -p/27$, $y^3+z^3 = q$ を満たす $y^3,z^3$ を構成する.  $y^3$ の取り方を1つ決めておく.\n",
    "\n",
    "(2) $y^3$ から $y$ を決める. $y^3$ から $y$ を決める方法は3通りある.\n",
    "\n",
    "(3) $z$ は $y$ から $-3yz=p$ を解くことによって一意に決まる.\n",
    "\n",
    "(4) 3次方程式の3つの解 $\\alpha,\\beta,\\gamma$ は $y,z$ を用いて, \n",
    "\n",
    "$$\n",
    "\\alpha = -y-z, \\quad\n",
    "\\beta = -\\omega y - \\omega^2 z, \\quad\n",
    "\\gamma = -\\omega^2 y - \\omega z\n",
    "$$\n",
    "\n",
    "と表わされる. このとき, \n",
    "\n",
    "(a) $y$ を $\\omega y$ で置き換える操作で, $z$ は $z\\,/\\omega = \\omega^2 z$ に置き換わるので, 解は $\\alpha\\mapsto\\beta\\mapsto\\gamma\\mapsto\\alpha$ と巡回的に置き換わる.\n",
    "\n",
    "(b) $y$ と $z$ を交換する操作で $\\beta$ と $\\gamma$ が交換される. \n",
    "\n",
    "**問題:** (a),(b)の2つの操作を有限回繰り返すことによって, 集合 $\\{\\alpha,\\beta,\\gamma\\}$ のすべての置換が得られることを示せ. $\\QED$\n",
    "\n",
    "**ヒント:** 集合 $\\{\\alpha,\\beta,\\gamma\\}$ の置換の全体は以下の6通り存在する:\n",
    "\n",
    "$$\n",
    "\\begin{aligned}\n",
    "& \\sigma_1:\n",
    "\\alpha\\mapsto\\alpha, \\quad\n",
    "\\beta\\mapsto\\beta, \\quad\n",
    "\\gamma\\mapsto\\gamma;\n",
    "\\\\ & \\sigma_2:\n",
    "\\alpha\\mapsto\\beta, \\quad\n",
    "\\beta\\mapsto\\gamma, \\quad\n",
    "\\gamma\\mapsto\\alpha;\n",
    "\\\\ & \\sigma_3:\n",
    "\\alpha\\mapsto\\gamma, \\quad\n",
    "\\beta\\mapsto\\alpha, \\quad\n",
    "\\gamma\\mapsto\\beta;\n",
    "\\\\ & \\sigma_4:\n",
    "\\alpha\\mapsto\\beta, \\quad\n",
    "\\beta\\mapsto\\alpha, \\quad\n",
    "\\gamma\\mapsto\\gamma;\n",
    "\\\\ & \\sigma_5:\n",
    "\\alpha\\mapsto\\gamma, \\quad\n",
    "\\beta\\mapsto\\beta, \\quad\n",
    "\\gamma\\mapsto\\alpha;\n",
    "\\\\ & \\sigma_6:\n",
    "\\alpha\\mapsto\\alpha, \\quad\n",
    "\\beta\\mapsto\\gamma, \\quad\n",
    "\\gamma\\mapsto\\beta.\n",
    "\\qquad \\QED\n",
    "\\end{aligned}\n",
    "$$"
   ]
  },
  {
   "cell_type": "markdown",
   "metadata": {},
   "source": [
    "**問題:** 正三角形を回転させたり線対称変換したりしてもとの正三角形にぴったり貼り合わせる操作が全部で6通り存在することを確認せよ. そのような操作全体の集合を3次の二面体群と呼び, $D_3$ と表す. $\\QED$"
   ]
  },
  {
   "cell_type": "markdown",
   "metadata": {},
   "source": [
    "**上の問題の続き:** 正三角形の3つの頂点に $A,B,C$ と記号を割り振っておく. $A\\mapsto B\\mapsto C\\mapsto A$ と頂点を巡回的に移す3次の二面体群 $D_3$ の要素を $a$ と書き, $B$ と $C$ を交換する $D_3$ の要素を $b$ と書く. $a$, $b$ の2つの操作を有限回繰り返すことによって, $D_3$ 内のすべての操作を作ることができ, しかも集合 $\\{A,B,C\\}$ のすべての置換も同時に得られることを確認せよ. $\\QED$\n",
    "\n",
    "数学科の学生はこれによって次が証明されたと主張する.\n",
    "\n",
    "**定理:** 3次の二面体群 $D_3$ は3次の置換群 $S_3$ と同型である. $\\QED$"
   ]
  },
  {
   "cell_type": "markdown",
   "metadata": {},
   "source": [
    "## 4次方程式\n",
    "\n",
    "**目標:** 一般の4次方程式 $x^4 + px^2 + qx + r = 0$ の解の公式を作ること. $\\QED$\n",
    "\n",
    "**注意:** この形の3次方程式を解くことができれば, $x^4+ax^3+bx^2+cx+d=0$ 型の4次方程式も解くこともできる. $\\QED$\n",
    "\n",
    "以下では $x$ を $w$ で置き換えた $w^4 + pw^2 + qw + r = 0$ を解くことにする."
   ]
  },
  {
   "cell_type": "markdown",
   "metadata": {},
   "source": [
    "### 4次方程式を解くために役に立つ因数分解の公式\n",
    "\n",
    "**問題:** 以下の式を展開せよ:\n",
    "\n",
    "$$\n",
    "(w+x+y+z)(w+x-y-z)(w-x+y-z)(w-x-y+z).\n",
    "\\qquad \\QED\n",
    "$$"
   ]
  },
  {
   "cell_type": "code",
   "execution_count": 5,
   "metadata": {},
   "outputs": [
    {
     "data": {
      "text/latex": [
       "\\begin{equation*}w^{4} - 2 w^{2} x^{2} - 2 w^{2} y^{2} - 2 w^{2} z^{2} + 8 w x y z + x^{4} - 2 x^{2} y^{2} - 2 x^{2} z^{2} + y^{4} - 2 y^{2} z^{2} + z^{4}\\end{equation*}"
      ],
      "text/plain": [
       " 4      2  2      2  2      2  2                4      2  2      2  2    4    \n",
       "w  - 2*w *x  - 2*w *y  - 2*w *z  + 8*w*x*y*z + x  - 2*x *y  - 2*x *z  + y  - 2\n",
       "\n",
       "  2  2    4\n",
       "*y *z  + z "
      ]
     },
     "execution_count": 5,
     "metadata": {},
     "output_type": "execute_result"
    }
   ],
   "source": [
    "@vars w x y z\n",
    "f = (w+x+y+z)*(w+x-y-z)*(w-x+y-z)*(w-x-y+z)\n",
    "f.expand()"
   ]
  },
  {
   "cell_type": "markdown",
   "metadata": {},
   "source": [
    "**上の問題の続き:** 上の問題の計算結果を $w$ の多項式として整理して, $w^4,w^3,w^2,w, 1$ の係数を書き下せ. $\\QED$\n",
    "\n",
    "**注意:** 以下に答えが書いてあるので, できるだけ見ないように気を付けること. $\\QED$"
   ]
  },
  {
   "cell_type": "code",
   "execution_count": 17,
   "metadata": {},
   "outputs": [
    {
     "data": {
      "text/latex": [
       "\\[ \\left[ \\begin{array}{r}1\\\\- 2 x^{2} - 2 y^{2} - 2 z^{2}\\\\8 x y z\\\\x^{4} - 2 x^{2} y^{2} - 2 x^{2} z^{2} + y^{4} - 2 y^{2} z^{2} + z^{4}\\end{array} \\right] \\]"
      ],
      "text/plain": [
       "4-element Array{Sym,1}:\n",
       "                                                   1\n",
       "                              -2*x^2 - 2*y^2 - 2*z^2\n",
       "                                             8*x*y*z\n",
       " x^4 - 2*x^2*y^2 - 2*x^2*z^2 + y^4 - 2*y^2*z^2 + z^4"
      ]
     },
     "execution_count": 17,
     "metadata": {},
     "output_type": "execute_result"
    }
   ],
   "source": [
    "f = sympy.Poly(f, w)\n",
    "c = f.coeffs()"
   ]
  },
  {
   "cell_type": "code",
   "execution_count": 20,
   "metadata": {},
   "outputs": [
    {
     "data": {
      "text/latex": [
       "\\begin{equation*}- 4 x^{2} y^{2} - 4 x^{2} z^{2} - 4 y^{2} z^{2}\\end{equation*}"
      ],
      "text/plain": [
       "     2  2      2  2      2  2\n",
       "- 4*x *y  - 4*x *z  - 4*y *z "
      ]
     },
     "execution_count": 20,
     "metadata": {},
     "output_type": "execute_result"
    }
   ],
   "source": [
    "(c[4] - (x^2+y^2+z^2)^2).simplify()"
   ]
  },
  {
   "cell_type": "markdown",
   "metadata": {},
   "source": [
    "**解答:** $w^4$ の係数は $1$ になり, $w^3$ の係数は $0$ になる. $w^2,w,1$ の係数をそれぞれ $p,q,r$ と書くと, \n",
    "\n",
    "$$\n",
    "p = -2(x^2+y^2+z^2), \\quad\n",
    "q = 8xyz, \\quad\n",
    "r = (x^2+y^2+z^2)^2 - 4(x^2 y^2 + x^2 z^2 + y^2 z^2).\n",
    "$$\n",
    "\n",
    "すなわち, このように置くと,\n",
    "\n",
    "$$\n",
    "(w+x+y+z)(w+x-y-z)(w-x+y-z)(w-x-y+z) = w^4 + pw^2+qw+r.\n",
    "\\qquad \\QED\n",
    "$$"
   ]
  },
  {
   "cell_type": "code",
   "execution_count": 28,
   "metadata": {},
   "outputs": [
    {
     "data": {
      "text/latex": [
       "\\begin{equation*}\\left(- w + x - y + z\\right) \\left(- w + x + y - z\\right) \\left(w + x - y - z\\right) \\left(w + x + y + z\\right)\\end{equation*}"
      ],
      "text/plain": [
       "(-w + x - y + z)*(-w + x + y - z)*(w + x - y - z)*(w + x + y + z)"
      ]
     },
     "execution_count": 28,
     "metadata": {},
     "output_type": "execute_result"
    }
   ],
   "source": [
    "p = -2*(x^2+y^2+z^2)\n",
    "q = 8x*y*z\n",
    "r = (x^2+y^2+z^2)^2 - 4*(x^2*y^2 + x^2*z^2 + y^2*z^2)\n",
    "g = w^4+p*w^2+q*w+r\n",
    "g.factor()"
   ]
  },
  {
   "cell_type": "code",
   "execution_count": 30,
   "metadata": {},
   "outputs": [
    {
     "data": {
      "text/latex": [
       "\\begin{equation*}\\left(- w + x - y + z\\right) \\left(- w + x + y - z\\right) \\left(w + x - y - z\\right) \\left(w + x + y + z\\right)\\end{equation*}"
      ],
      "text/plain": [
       "(-w + x - y + z)*(-w + x + y - z)*(w + x - y - z)*(w + x + y + z)"
      ]
     },
     "execution_count": 30,
     "metadata": {},
     "output_type": "execute_result"
    }
   ],
   "source": [
    "e₁ = x^2+y^2+z^2\n",
    "e₂ = x^2*y^2 + x^2*z^2 + y^2*z^2\n",
    "e₃ = x*y*z\n",
    "p = -2e₁\n",
    "q = 8e₃\n",
    "r = e₁^2 - 4e₂\n",
    "g = w^4+p*w^2+q*w+r\n",
    "g.factor()"
   ]
  },
  {
   "cell_type": "markdown",
   "metadata": {},
   "source": [
    "### 4次方程式の解法\n",
    "\n",
    "前節の結果より, $p,q,r$ に対して,\n",
    "\n",
    "$$\n",
    "p = -2(x^2+y^2+z^2), \\quad\n",
    "q = 8xyz, \\quad\n",
    "r = (x^2+y^2+z^2)^2 - 4(x^2 y^2 + x^2 z^2 + y^2 z^2).\n",
    "$$\n",
    "\n",
    "を満たす $x,y,z$ を見付けることができれば, 4次方程式 $w^4 + pw^2 + qw + r = 0$ は\n",
    "\n",
    "$$\n",
    "w = -x-y-z,\\; -x+y+z,\\; x-y+z,\\; x+y-z\n",
    "$$\n",
    "\n",
    "と解ける. \n",
    "\n",
    "**問題:** 3次方程式の解法はすでに分かっていると仮定すると, 上の条件を満たす $x,y,z$ が得られることを示せ. $\\QED$\n",
    "\n",
    "**ヒント:** 以下を満たす $x^2,y^2,z^2$ が得られることを示せ:\n",
    "\n",
    "$$\n",
    "x^2+y^2+z^2 = -\\frac{p}{2}, \\quad\n",
    "x^2y^2z^2 = \\left(\\frac{q}{8}\\right)^2, \\quad\n",
    "x^2 y^2 + x^2 z^2 + y^2 z^2 = \\frac{p^2}{16}-\\frac{r}{4}.\n",
    "$$\n",
    "\n",
    "以上の式を見ずに自分で計算した方が納得し易いと思われる. 3次方程式の解と係数の関係を自分で作成して使え! $\\QED$\n",
    "\n",
    "この問題を解ければ4次方程式の解法が分かったことになる."
   ]
  },
  {
   "cell_type": "markdown",
   "metadata": {},
   "source": [
    "### 一般の4次方程式の解集合へのガロア群の作用\n",
    "\n",
    "前節の方法で, 4次方程式 $w^4 + pw^2 + qw + r = 0$ の4つの解を\n",
    "\n",
    "$$\n",
    "\\alpha = -x-y-z,\\quad\n",
    "\\beta = -x+y+z,\\quad\n",
    "\\gamma = x-y+z,\\quad\n",
    "\\delta = x+y-z\n",
    "$$\n",
    "\n",
    "と表せることがわかった. ただし, $x^2,y^2,z^3$ は3次方程式\n",
    "\n",
    "$$\n",
    "\\lambda^3 + \\frac{p}{2}\\lambda^2 + \\left(\\frac{p^2}{16}-\\frac{r}{4}\\right)\\lambda - \\left(\\frac{q}{8}\\right)^2 = 0\n",
    "$$\n",
    "\n",
    "の3つの解である. $x^2$, $y^2$ を与える $x$, $y$ の取り方を1つ決めておく. そのような $(x,y)$ の取り方は $(\\pm x, \\pm y)$ (復号が同順でない場合も許す)の4通り存在する. 残りの $z$ は条件 $8xyz=q$ によって一意に決まる. \n",
    "\n",
    "(a) $x$ を $\\pm x$ のどちらか, $y$ を $\\pm y$ のどちらかに移す操作で, 以下の4通りの4つの解の置換が得られる:\n",
    "\n",
    "$$\n",
    "\\begin{alignedat}{2}\n",
    "&\n",
    "(x,y)\\mapsto(x,y), \\quad & & \n",
    "(\\alpha,\\beta,\\gamma,\\delta)\\mapsto(\\alpha,\\beta,\\gamma,\\delta),\n",
    "\\\\ &\n",
    "(x,y)\\mapsto(-x,y), \\quad & &\n",
    "(\\alpha,\\beta,\\gamma,\\delta)\\mapsto(\\gamma,\\delta,\\alpha,\\beta),\n",
    "\\\\ &\n",
    "(x,y)\\mapsto(x,-y), \\quad & &\n",
    "(\\alpha,\\beta,\\gamma,\\delta)\\mapsto(\\beta,\\alpha,\\delta,\\gamma),\n",
    "\\\\ &\n",
    "(x,y)\\mapsto(-x,-y), \\quad & &\n",
    "(\\alpha,\\beta,\\gamma,\\delta)\\mapsto(\\delta,\\gamma,\\beta,\\alpha).\n",
    "\\end{alignedat}\n",
    "$$\n",
    "\n",
    "(b) $x,y,z$ を置換すると, $\\beta,\\gamma,\\delta$ の置換が得られる.\n",
    "\n",
    "**問題:** (a),(b)の操作の有限回の繰り返しで, 集合 $\\{\\alpha,\\beta,\\gamma,\\delta\\}$ のすべての置換を構成可能であることを示せ. $\\QED$"
   ]
  },
  {
   "cell_type": "markdown",
   "metadata": {},
   "source": [
    "### 立方体の回転対称性\n",
    "\n",
    "立方体を回転してもとの立方体にぴったり重ね合わせる操作全体の集合を $G$ と書く. $G$ は鏡映変換を含まないことに注意せよ.  立方体には4本の対角線がある. $G$ に含まれる操作はその4本の対角線の置換を与える. \n",
    "\n",
    "**注意:** 対角線の向きが変わってしまうことは無視する. $\\QED$\n",
    "\n",
    "実は $G$ の要素はちょうど $24$ 個存在し, その $24$ 個の操作は4本の対角線の置換全体($4!=24$ 個ある)をちょうど与えていることを確認できる. \n",
    "\n",
    "このことは絵を沢山描けば確認できる.\n",
    "\n",
    "**問題:** 実際に絵を描いて確認してみよ. $\\QED$\n",
    "\n",
    "この結果を数学科の学生は次のように述べる.\n",
    "\n",
    "**定理:** 立方体の回転対称性全体のなす群 $G$ は4次の置換群 $S_4$ と同型である. $\\QED$"
   ]
  },
  {
   "cell_type": "markdown",
   "metadata": {},
   "source": [
    "立方体 $C$ が具体的に\n",
    "\n",
    "$$\n",
    "C = \\{\\,(x,y,z)\\in\\R^3\\mid \\max(|x|,|y|,|z|) = 1\\,\\}\n",
    "$$\n",
    "\n",
    "と表わされていると仮定する.  このとき, ベクトル $e_x,e_y,e_z$ を\n",
    "\n",
    "$$\n",
    "e_x = \\begin{bmatrix} 1 \\\\ 0 \\\\ 0 \\\\ \\end{bmatrix}, \\quad\n",
    "e_y = \\begin{bmatrix} 0 \\\\ 1 \\\\ 0 \\\\ \\end{bmatrix}, \\quad\n",
    "e_z = \\begin{bmatrix} 0 \\\\ 0 \\\\ 1 \\\\ \\end{bmatrix}\n",
    "$$\n",
    "\n",
    "と定めると, 立方体 $C$ の4本の対角線は\n",
    "\n",
    "$$\n",
    "\\ell_1 = \\R(-e_x-e_y-e_z), \\quad\n",
    "\\ell_2 = \\R(-e_x+e_y+e_z), \\quad\n",
    "\\ell_3 = \\R(e_x-e_y+e_z), \\quad\n",
    "\\ell_4 = \\R(e_x+e_y-e_z)\n",
    "$$\n",
    "\n",
    "と表わされる.  これと, 4次方程式の4つの解の形の類似性に注意せよ!\n",
    "\n",
    "**問題:** 以上の様子を図で描いてみよ. $\\QED$"
   ]
  },
  {
   "cell_type": "markdown",
   "metadata": {},
   "source": [
    "さらに次の3本の直線を考える:\n",
    "\n",
    "$$\n",
    "m_x = \\R e_x, \\quad\n",
    "m_y = \\R e_y, \\quad\n",
    "m_z = \\R e_z.\n",
    "$$\n",
    "\n",
    "**問題:** 立方体の対称性全体のなす群 $G$ に含まれる立方体の操作は, 3つの直線の集合 $\\{m_x, m_y, m_z\\}$ のすべての置換を与えることを示せ. $\\QED$"
   ]
  },
  {
   "cell_type": "markdown",
   "metadata": {},
   "source": [
    "**上の問題の続き:** 立方体の対称性全体のなす群 $G$ に含まれる立方体の操作で3つの直線 $m_x, m_y, m_z$ の恒等置換を与えるものがちょうど4つあることを示せ. $\\QED$\n",
    "\n",
    "これらの問題はすべて絵を描きまくれば解決するはずである."
   ]
  },
  {
   "cell_type": "markdown",
   "metadata": {},
   "source": [
    "実際に絵を描きまくれば, 立方体の対角線を以下のように置換する $G$ に含まれる操作が 3つの直線の集合 $\\{m_x,m_y,m_z\\}$  の恒等置換を与えることを確認できる:\n",
    "\n",
    "$$\n",
    "\\begin{aligned}\n",
    "&\n",
    "(\\ell_1,\\ell_2,\\ell_3,\\ell_4)\\mapsto(\\ell_1,\\ell_2,\\ell_3,\\ell_4),\n",
    "\\\\ &\n",
    "(\\ell_1,\\ell_2,\\ell_3,\\ell_4)\\mapsto(\\ell_3,\\ell_4,\\ell_1,\\ell_2),\n",
    "\\\\ &\n",
    "(\\ell_1,\\ell_2,\\ell_3,\\ell_4)\\mapsto(\\ell_2,\\ell_1,\\ell_4,\\ell_3),\n",
    "\\\\ &\n",
    "(\\ell_1,\\ell_2,\\ell_3,\\ell_4)\\mapsto(\\ell_4,\\ell_3,\\ell_2,\\ell_1),\n",
    "\\end{aligned}\n",
    "$$\n",
    "\n",
    "**問題:** このことを確認せよ. $\\QED$\n",
    "\n",
    "**どこが面白いか:** 以上の立方体の対称性と4次方程式の解法のあいだに出て来る式が非常に似ていることに気付いて欲しい. このような現象は4次の置換群の構造がどちらにも自然に現われることによって生じている. $\\QED$"
   ]
  },
  {
   "cell_type": "code",
   "execution_count": null,
   "metadata": {},
   "outputs": [],
   "source": []
  },
  {
   "cell_type": "code",
   "execution_count": null,
   "metadata": {},
   "outputs": [],
   "source": []
  }
 ],
 "metadata": {
  "@webio": {
   "lastCommId": null,
   "lastKernelId": null
  },
  "kernelspec": {
   "display_name": "Julia 1.1.1",
   "language": "julia",
   "name": "julia-1.1"
  },
  "language_info": {
   "file_extension": ".jl",
   "mimetype": "application/julia",
   "name": "julia",
   "version": "1.1.1"
  },
  "toc": {
   "base_numbering": 1,
   "nav_menu": {},
   "number_sections": true,
   "sideBar": true,
   "skip_h1_title": true,
   "title_cell": "目次",
   "title_sidebar": "目次",
   "toc_cell": true,
   "toc_position": {},
   "toc_section_display": true,
   "toc_window_display": false
  }
 },
 "nbformat": 4,
 "nbformat_minor": 2
}
